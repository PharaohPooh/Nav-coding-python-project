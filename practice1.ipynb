{
 "cells": [
  {
   "cell_type": "code",
   "execution_count": 2,
   "id": "ad7bd13c",
   "metadata": {},
   "outputs": [
    {
     "name": "stdout",
     "output_type": "stream",
     "text": [
      "hello Nav\n"
     ]
    },
    {
     "data": {
      "text/plain": [
       "'Hello Nav'"
      ]
     },
     "execution_count": null,
     "metadata": {},
     "output_type": "execute_result"
    }
   ],
   "source": [
    "print(\"hello Nav\")\n",
    "\n",
    "\"Hello Nav\""
   ]
  },
  {
   "cell_type": "code",
   "execution_count": 3,
   "id": "1d272284",
   "metadata": {},
   "outputs": [],
   "source": [
    "val = input(\"Enter val:\")"
   ]
  },
  {
   "cell_type": "code",
   "execution_count": 4,
   "id": "c9d4ca57",
   "metadata": {},
   "outputs": [
    {
     "name": "stdout",
     "output_type": "stream",
     "text": [
      "6\n"
     ]
    }
   ],
   "source": [
    "print(val)"
   ]
  },
  {
   "cell_type": "code",
   "execution_count": 5,
   "id": "791d20d1",
   "metadata": {},
   "outputs": [],
   "source": [
    "vala = input(\"Enter vala:\")\n",
    "valb = input(\"Enter valb:\")\n"
   ]
  },
  {
   "cell_type": "markdown",
   "id": "e6a6bf90",
   "metadata": {},
   "source": [
    "##Arithmatic "
   ]
  },
  {
   "cell_type": "code",
   "execution_count": 6,
   "id": "e4fc86e2",
   "metadata": {},
   "outputs": [
    {
     "name": "stdout",
     "output_type": "stream",
     "text": [
      "The sum is 1030.\n"
     ]
    }
   ],
   "source": [
    "val1 = 1023\n",
    "val2 = 7\n",
    "\n",
    "add = val1 + val2\n",
    "print(f\"The sum is {add}.\")"
   ]
  },
  {
   "cell_type": "code",
   "execution_count": 7,
   "id": "9834c3b3",
   "metadata": {},
   "outputs": [
    {
     "name": "stdout",
     "output_type": "stream",
     "text": [
      "The difference is 1016.\n",
      "The product is 7161.\n",
      "The product is 146.14285714285714.\n",
      "The product is 146.\n"
     ]
    }
   ],
   "source": [
    "sub = val1 - val2\n",
    "print(f\"The difference is {sub}.\")\n",
    "mul = val1 * val2\n",
    "print(f\"The product is {mul}.\")\n",
    "div = val1/val2\n",
    "print(f\"The product is {div}.\")\n",
    "quo = val1//val2\n",
    "print(f\"The product is {quo}.\")\n"
   ]
  },
  {
   "cell_type": "markdown",
   "id": "f330cdfd",
   "metadata": {},
   "source": [
    "Great way to hide the last few digits of something use the // fundtion and divide it by how many decimals you see"
   ]
  },
  {
   "cell_type": "code",
   "execution_count": 8,
   "id": "5b144860",
   "metadata": {},
   "outputs": [
    {
     "name": "stdout",
     "output_type": "stream",
     "text": [
      "1234567\n"
     ]
    }
   ],
   "source": [
    "print(1234567890//1000)"
   ]
  },
  {
   "cell_type": "code",
   "execution_count": 9,
   "id": "a5a8db4f",
   "metadata": {},
   "outputs": [
    {
     "name": "stdout",
     "output_type": "stream",
     "text": [
      "The remainder is 1.\n"
     ]
    }
   ],
   "source": [
    "rem = val1%val2\n",
    "print(f\"The remainder is {rem}.\")"
   ]
  },
  {
   "cell_type": "code",
   "execution_count": 10,
   "id": "c2b6a8b0",
   "metadata": {},
   "outputs": [
    {
     "name": "stdout",
     "output_type": "stream",
     "text": [
      "890\n"
     ]
    }
   ],
   "source": [
    "print(1234567890%1000)"
   ]
  },
  {
   "cell_type": "code",
   "execution_count": 11,
   "id": "4a397573",
   "metadata": {},
   "outputs": [
    {
     "name": "stdout",
     "output_type": "stream",
     "text": [
      "Val1 to the Power of Val2 is 1172544775637859048447.\n"
     ]
    }
   ],
   "source": [
    "pow = val1**val2 #val1^val2\n",
    "print(f\"Val1 to the Power of Val2 is {pow}.\")"
   ]
  },
  {
   "cell_type": "markdown",
   "id": "92eff4e7",
   "metadata": {},
   "source": [
    "Scientific Notation \n",
    "\n",
    "scientific = format(pow, \".2e\")\n",
    ".2e is # of decimals after point\n",
    "e is 10 in this case"
   ]
  },
  {
   "cell_type": "code",
   "execution_count": 12,
   "id": "c2879c34",
   "metadata": {},
   "outputs": [
    {
     "name": "stdout",
     "output_type": "stream",
     "text": [
      "1.17e+21\n"
     ]
    }
   ],
   "source": [
    "scientific = format(pow, \".2e\")\n",
    "print(scientific)"
   ]
  },
  {
   "cell_type": "markdown",
   "id": "eb807fb5",
   "metadata": {},
   "source": [
    "Now I want to round the division decimal "
   ]
  },
  {
   "cell_type": "code",
   "execution_count": 13,
   "id": "a14bb708",
   "metadata": {},
   "outputs": [
    {
     "name": "stdout",
     "output_type": "stream",
     "text": [
      "146.14\n",
      "146.14\n"
     ]
    }
   ],
   "source": [
    "dec2a = round(div,2)\n",
    "print(dec2a)\n",
    "dec2b = round(div, ndigits=2)\n",
    "print(dec2b)"
   ]
  },
  {
   "cell_type": "markdown",
   "id": "f2ba5ea2",
   "metadata": {},
   "source": [
    "Typecasting - converting from one data type to another"
   ]
  },
  {
   "cell_type": "code",
   "execution_count": 14,
   "id": "fb0ef0c3",
   "metadata": {},
   "outputs": [
    {
     "name": "stdout",
     "output_type": "stream",
     "text": [
      "<class 'str'>\n",
      "<class 'int'>\n"
     ]
    }
   ],
   "source": [
    "string1 = \"123\"\n",
    "vals1 = int(string1)\n",
    "print(type(string1))\n",
    "print(type(vals1))"
   ]
  },
  {
   "cell_type": "markdown",
   "id": "f3e93054",
   "metadata": {},
   "source": [
    "Input 3 values multiply the first two and divide that answer by the 3rd "
   ]
  },
  {
   "cell_type": "code",
   "execution_count": 15,
   "id": "1e47f3fa",
   "metadata": {},
   "outputs": [],
   "source": [
    "vala = input(\"Enter vala:\")\n",
    "valb = input(\"Enter valb:\")\n",
    "valc = input(\"Enter valc:\")"
   ]
  },
  {
   "cell_type": "code",
   "execution_count": 16,
   "id": "84c2bea2",
   "metadata": {},
   "outputs": [],
   "source": [
    "vala = int(vala)\n",
    "valb = int(valb)\n",
    "valc = int(valc)"
   ]
  },
  {
   "cell_type": "code",
   "execution_count": 17,
   "id": "99d027f9",
   "metadata": {},
   "outputs": [
    {
     "name": "stdout",
     "output_type": "stream",
     "text": [
      "5.6\n"
     ]
    }
   ],
   "source": [
    "valprod = vala * valb\n",
    "valdiv = valprod/valc\n",
    "print(valdiv)"
   ]
  },
  {
   "cell_type": "markdown",
   "id": "19c7f7de",
   "metadata": {},
   "source": [
    "(((val * 2)+5)*92) find quotient and reminder\n",
    "then /11 find quotient and reminder\n",
    "val - 102 but input it"
   ]
  },
  {
   "cell_type": "code",
   "execution_count": 20,
   "id": "3b4c4fee",
   "metadata": {},
   "outputs": [
    {
     "name": "stdout",
     "output_type": "stream",
     "text": [
      "1748\n",
      "0\n"
     ]
    }
   ],
   "source": [
    "valNew = int(input(\"Enter valNew:\"))\n",
    "valNew = valNew * 2\n",
    "valNew = valNew + 5\n",
    "valNew = valNew * 92\n",
    "print(valNew//11)\n",
    "print(valNew%11)"
   ]
  },
  {
   "cell_type": "markdown",
   "id": "edb13651",
   "metadata": {},
   "source": [
    "Anyting turned into a boolean value that is not 0 is true"
   ]
  },
  {
   "cell_type": "code",
   "execution_count": 23,
   "id": "ca4e9e86",
   "metadata": {},
   "outputs": [
    {
     "name": "stdout",
     "output_type": "stream",
     "text": [
      "test\n",
      "True\n"
     ]
    }
   ],
   "source": [
    "valbol = \"test\"\n",
    "print (valbol)\n",
    "valbol = bool(valbol)\n",
    "print(valbol)"
   ]
  },
  {
   "cell_type": "markdown",
   "id": "84fb6c67",
   "metadata": {},
   "source": [
    "String Manipulation \n",
    "\n",
    "Strings are stored like a list of characters in the memory with their own indexes (0 to n for each letter)"
   ]
  },
  {
   "cell_type": "code",
   "execution_count": 24,
   "id": "97b5f936",
   "metadata": {},
   "outputs": [
    {
     "name": "stdout",
     "output_type": "stream",
     "text": [
      "NavIsAwesomeNavIsAwesome\n"
     ]
    }
   ],
   "source": [
    "s1 = \"NavIsAwesome\"\n",
    "print(s1*2)"
   ]
  },
  {
   "cell_type": "code",
   "execution_count": 25,
   "id": "504a982a",
   "metadata": {},
   "outputs": [
    {
     "name": "stdout",
     "output_type": "stream",
     "text": [
      "NavIsAwesomeOfcourse\n"
     ]
    }
   ],
   "source": [
    "s2 = \"Ofcourse\"\n",
    "print (s1+s2)"
   ]
  },
  {
   "cell_type": "code",
   "execution_count": 26,
   "id": "84ba24b6",
   "metadata": {},
   "outputs": [
    {
     "name": "stdout",
     "output_type": "stream",
     "text": [
      "True\n"
     ]
    }
   ],
   "source": [
    "print (\"A\" in s1)"
   ]
  },
  {
   "cell_type": "markdown",
   "id": "6de5a925",
   "metadata": {},
   "source": [
    "Is the letter A (case sensitive) in s1"
   ]
  },
  {
   "cell_type": "code",
   "execution_count": 27,
   "id": "cc10e644",
   "metadata": {},
   "outputs": [
    {
     "name": "stdout",
     "output_type": "stream",
     "text": [
      "False\n"
     ]
    }
   ],
   "source": [
    "print (\"A\" in s2)"
   ]
  },
  {
   "cell_type": "markdown",
   "id": "77473e29",
   "metadata": {},
   "source": [
    "3rd value in s1"
   ]
  },
  {
   "cell_type": "code",
   "execution_count": 28,
   "id": "c813bd9e",
   "metadata": {},
   "outputs": [
    {
     "name": "stdout",
     "output_type": "stream",
     "text": [
      "v\n"
     ]
    }
   ],
   "source": [
    "print(s1[2])"
   ]
  },
  {
   "cell_type": "markdown",
   "id": "e4808773",
   "metadata": {},
   "source": [
    "First 3 values in s1. The last value is the value you stop before. So 3 gives 2 but not 3rd value (again starting from 0)."
   ]
  },
  {
   "cell_type": "code",
   "execution_count": 33,
   "id": "1764ce17",
   "metadata": {},
   "outputs": [
    {
     "name": "stdout",
     "output_type": "stream",
     "text": [
      "Nav\n",
      "Nav\n"
     ]
    }
   ],
   "source": [
    "print(s1[0:3])\n",
    "print(s1[:3])"
   ]
  },
  {
   "cell_type": "markdown",
   "id": "0084701c",
   "metadata": {},
   "source": [
    "Just the substring Awesome "
   ]
  },
  {
   "cell_type": "code",
   "execution_count": 32,
   "id": "b6d457d9",
   "metadata": {},
   "outputs": [
    {
     "name": "stdout",
     "output_type": "stream",
     "text": [
      "Awesome\n",
      "Awesome\n"
     ]
    }
   ],
   "source": [
    "print(s1[5:12])\n",
    "print(s1[5:])"
   ]
  },
  {
   "cell_type": "markdown",
   "id": "320db0b1",
   "metadata": {},
   "source": [
    "Just Is"
   ]
  },
  {
   "cell_type": "code",
   "execution_count": 34,
   "id": "cf636ebf",
   "metadata": {},
   "outputs": [
    {
     "name": "stdout",
     "output_type": "stream",
     "text": [
      "Is\n"
     ]
    }
   ],
   "source": [
    "print(s1[3:5])"
   ]
  },
  {
   "cell_type": "code",
   "execution_count": 39,
   "id": "0f14d78f",
   "metadata": {},
   "outputs": [
    {
     "name": "stdout",
     "output_type": "stream",
     "text": [
      "12\n",
      "some\n"
     ]
    }
   ],
   "source": [
    "#size of string\n",
    "print(len(s1))\n",
    "#The last index is length minus 1 (12 - 1 = 11). \n",
    "# Again because python starts at 0\n",
    "#Last 4 digits\n",
    "print(s1[len(s1)-4:])"
   ]
  },
  {
   "cell_type": "code",
   "execution_count": 44,
   "id": "8336008b",
   "metadata": {},
   "outputs": [
    {
     "name": "stdout",
     "output_type": "stream",
     "text": [
      "OFCOURSE\n",
      "ofcourse\n",
      "Ofcourse\n"
     ]
    }
   ],
   "source": [
    "#make something uppercase (you dont put anything in parenthesis)\n",
    "print(s2.upper())\n",
    "#make something lowercase (you dont put anything in parenthesis)\n",
    "print(s2.lower())\n",
    "\n",
    "print(s2[0].upper()+s2[1:].lower())"
   ]
  },
  {
   "cell_type": "code",
   "execution_count": 46,
   "id": "37f8e2cd",
   "metadata": {},
   "outputs": [
    {
     "name": "stdout",
     "output_type": "stream",
     "text": [
      "NavIsAw$som$\n"
     ]
    }
   ],
   "source": [
    "#replace function\n",
    "#Replace e with a $\n",
    "print(s1.replace('e','$'))"
   ]
  },
  {
   "cell_type": "markdown",
   "id": "29edb955",
   "metadata": {},
   "source": [
    "Lists\n",
    "\n",
    "lists can have multiple types of values\n",
    "\n",
    "1st value -> index 0\n",
    "2nd balue -> index 1"
   ]
  },
  {
   "cell_type": "code",
   "execution_count": 81,
   "id": "ad9d93a1",
   "metadata": {},
   "outputs": [
    {
     "name": "stdout",
     "output_type": "stream",
     "text": [
      "['hi', True]\n",
      "2\n",
      "[0, 9, 'fuck']\n",
      "9\n"
     ]
    }
   ],
   "source": [
    "my_list = [1,2,\"hi\",True,4.1] #1-d List\n",
    "my_list1 = [[0, 9, \"fuck\"], [True, 2.5]] #list of lists \n",
    "\n",
    "print(my_list[2:4])\n",
    "#print the first index in the first list\n",
    "print(my_list[1])\n",
    "#print the 1st list in my_list1\n",
    "print(my_list1[0])\n",
    "#print the 2nd value in gthe first list of my_list1\n",
    "print(my_list1[0][1])\n"
   ]
  },
  {
   "cell_type": "markdown",
   "id": "df1c9784",
   "metadata": {},
   "source": [
    "List Functions"
   ]
  },
  {
   "cell_type": "code",
   "execution_count": 82,
   "id": "467338d3",
   "metadata": {},
   "outputs": [
    {
     "name": "stdout",
     "output_type": "stream",
     "text": [
      "4\n",
      "<class 'int'>\n",
      "[1, 2, 'hi', True, 4.1, '!']\n"
     ]
    }
   ],
   "source": [
    "# Index location in the list where 4.1 is\n",
    "print(my_list.index(4.1))\n",
    "#What data type is in index 0 on the list. Checking the balue of the first comment in the list\n",
    "print(type(my_list[0]))\n",
    "\n",
    "# .append changes the original list and you dont need to set it equal to itself\n",
    "my_list.append('!')\n",
    "print(my_list)\n"
   ]
  },
  {
   "cell_type": "code",
   "execution_count": 83,
   "id": "09e21f9d",
   "metadata": {},
   "outputs": [
    {
     "name": "stdout",
     "output_type": "stream",
     "text": [
      "['!', 4.1, True, 'hi', 2, 1]\n"
     ]
    }
   ],
   "source": [
    "#reverses the order of the list\n",
    "my_list.reverse()\n",
    "print(my_list)\n",
    "#list operations makes changes in the original list"
   ]
  },
  {
   "cell_type": "code",
   "execution_count": 84,
   "id": "14b39f0d",
   "metadata": {},
   "outputs": [
    {
     "name": "stdout",
     "output_type": "stream",
     "text": [
      "hi\n",
      "1\n",
      "['!', 4.1, True, 'hi', 2]\n"
     ]
    }
   ],
   "source": [
    "#finds 3rd from the back\n",
    "print(my_list[-3])\n",
    "\n",
    "#pop removes the value from the end of this list (changes the original list)\n",
    "# and gives you that value\n",
    "print(my_list.pop())\n",
    "print(my_list)"
   ]
  },
  {
   "cell_type": "code",
   "execution_count": null,
   "id": "dc257df9",
   "metadata": {},
   "outputs": [
    {
     "name": "stdout",
     "output_type": "stream",
     "text": [
      "!\n"
     ]
    }
   ],
   "source": [
    "#pop removes the index that you give it unless you give it \n",
    "# nothing than it gives you the last value\n",
    "print(my_list.pop(0))"
   ]
  },
  {
   "cell_type": "code",
   "execution_count": 120,
   "id": "cbe2ebe9",
   "metadata": {},
   "outputs": [],
   "source": [
    "a = 6\n",
    "b = 5"
   ]
  },
  {
   "cell_type": "markdown",
   "id": "8567a433",
   "metadata": {},
   "source": [
    "If-Else\n",
    "if <condition>:\n",
    "elif <condition2>:\n",
    "else: \n",
    "\n",
    "and = all true otherwise false\n",
    "or = all false otherwise true"
   ]
  },
  {
   "cell_type": "code",
   "execution_count": 121,
   "id": "cf3cd88d",
   "metadata": {},
   "outputs": [
    {
     "name": "stdout",
     "output_type": "stream",
     "text": [
      "True\n",
      "False\n",
      "True\n",
      "False\n"
     ]
    }
   ],
   "source": [
    "print(a%2 == 0)\n",
    "print(a%2 == 0 and a < 5 and a > 4)\n",
    "print(a%2 == 0 or  a < 5 or a > 4)\n",
    "print(not (a%2 == 0 or  a < 5 or a > 4))"
   ]
  },
  {
   "cell_type": "code",
   "execution_count": 127,
   "id": "53864224",
   "metadata": {},
   "outputs": [
    {
     "name": "stdout",
     "output_type": "stream",
     "text": [
      "6 is an even number.\n"
     ]
    }
   ],
   "source": [
    "if a%2 == 0:\n",
    "    EvOd = \"even\"\n",
    "else: \n",
    "    EvOd = \"odd\"\n",
    "print(f\"{a} is an {EvOd} number.\")"
   ]
  },
  {
   "cell_type": "code",
   "execution_count": 123,
   "id": "cdd8fa18",
   "metadata": {},
   "outputs": [
    {
     "name": "stdout",
     "output_type": "stream",
     "text": [
      "in range\n"
     ]
    }
   ],
   "source": [
    "if a > 1 and a < 10:\n",
    "    print(\"in range\")\n",
    "elif a<1:\n",
    "    print(\"before range\")\n",
    "else:\n",
    "    print (\"outside range\")"
   ]
  },
  {
   "cell_type": "markdown",
   "id": "7e72a77d",
   "metadata": {},
   "source": [
    "The issue with this version is that you check multiple conditions. Unlike elif where if you pass the first codition "
   ]
  },
  {
   "cell_type": "code",
   "execution_count": 124,
   "id": "c0715fd7",
   "metadata": {},
   "outputs": [
    {
     "name": "stdout",
     "output_type": "stream",
     "text": [
      "in range\n"
     ]
    }
   ],
   "source": [
    "if a > 1 and a < 10:\n",
    "    print(\"in range\")\n",
    "if a<1:\n",
    "    print(\"before range\")"
   ]
  },
  {
   "cell_type": "markdown",
   "id": "45d613c1",
   "metadata": {},
   "source": [
    "Loop Statements\n",
    "\n",
    "While - When you dont know the number of steps/repetitions you have to take \n",
    "\n",
    "For - When you know the number of steps/repetitions you have to take"
   ]
  },
  {
   "cell_type": "code",
   "execution_count": null,
   "id": "0cb9eef9",
   "metadata": {},
   "outputs": [
    {
     "name": "stdout",
     "output_type": "stream",
     "text": [
      "You're in!\n"
     ]
    }
   ],
   "source": [
    "#while loop\n",
    "password = \"1234\"\n",
    "inp = \"\"\n",
    "while password != inp: #loops till the condition is false\n",
    "    inp= input (\"Enter Password:\")\n",
    "print (\"You're in!\")"
   ]
  },
  {
   "cell_type": "code",
   "execution_count": null,
   "id": "6307e59d",
   "metadata": {},
   "outputs": [
    {
     "name": "stdout",
     "output_type": "stream",
     "text": [
      "0\n",
      "1\n",
      "2\n",
      "3\n",
      "4\n"
     ]
    }
   ],
   "source": [
    "#for loop\n",
    "#print first 5 whole numbers\n",
    "for i in range (5):\n",
    "    print (i)"
   ]
  },
  {
   "cell_type": "code",
   "execution_count": 130,
   "id": "38fd0af7",
   "metadata": {},
   "outputs": [
    {
     "name": "stdout",
     "output_type": "stream",
     "text": [
      "1\n",
      "2\n",
      "3\n",
      "4\n",
      "5\n"
     ]
    }
   ],
   "source": [
    "#print first 5 natural numbers\n",
    "for i in range (1,6):\n",
    "    print (i)"
   ]
  },
  {
   "cell_type": "markdown",
   "id": "5c72e5a3",
   "metadata": {},
   "source": [
    "Lopps and Lists\n",
    "my_list=[1,2,'hi',True,4.1]"
   ]
  },
  {
   "cell_type": "code",
   "execution_count": null,
   "id": "3f87fbce",
   "metadata": {},
   "outputs": [
    {
     "name": "stdout",
     "output_type": "stream",
     "text": [
      "<class 'str'>\n"
     ]
    }
   ],
   "source": [
    "#this command applies to the whole string\n",
    "\n",
    "my_list=[1,2,'hi',True,4.1]\n",
    "#convert all to string\n",
    "my_list = str(my_list)\n",
    "print(type(my_list[0]))"
   ]
  },
  {
   "cell_type": "code",
   "execution_count": 136,
   "id": "32f4ca2e",
   "metadata": {},
   "outputs": [
    {
     "name": "stdout",
     "output_type": "stream",
     "text": [
      "old list\n",
      "<class 'int'>\n",
      "<class 'int'>\n",
      "<class 'str'>\n",
      "<class 'bool'>\n",
      "<class 'float'>\n",
      "new list\n",
      "<class 'str'>\n",
      "<class 'str'>\n",
      "<class 'str'>\n",
      "<class 'str'>\n",
      "<class 'str'>\n"
     ]
    }
   ],
   "source": [
    "#this command changes all using a loop\n",
    "\n",
    "my_list=[1,2,'hi',True,4.1]\n",
    "#convert all to string\n",
    "print(\"old list\")\n",
    "new_list = []\n",
    "for element in my_list:\n",
    "    print (type (element))\n",
    "    new_list.append(str(element))\n",
    "print(\"new list\")\n",
    "#check\n",
    "for element in new_list:\n",
    "    print(type(element))"
   ]
  },
  {
   "cell_type": "markdown",
   "id": "3f996909",
   "metadata": {},
   "source": [
    "Break = get out of the loop often used with if condition to break if condition is met"
   ]
  },
  {
   "cell_type": "code",
   "execution_count": 137,
   "id": "78cf9fef",
   "metadata": {},
   "outputs": [
    {
     "name": "stdout",
     "output_type": "stream",
     "text": [
      "Nav\n",
      "Nav\n",
      "Nav\n",
      "Nav\n",
      "Nav\n",
      "Nav\n",
      "Nav\n",
      "Nav\n",
      "Nav\n",
      "Nav\n"
     ]
    }
   ],
   "source": [
    "age = 25\n",
    "name = 'Nav'\n",
    "for i in range (age):\n",
    "    if i ==10:\n",
    "        break\n",
    "    print(name) \n"
   ]
  },
  {
   "cell_type": "code",
   "execution_count": 140,
   "id": "b38764e2",
   "metadata": {},
   "outputs": [
    {
     "name": "stdout",
     "output_type": "stream",
     "text": [
      "1\n",
      "2\n",
      "3\n",
      "4\n",
      "5\n"
     ]
    }
   ],
   "source": [
    "countn = 0\n",
    "while True:\n",
    "    countn = countn +1\n",
    "    print(countn)\n",
    "    if countn ==5:\n",
    "        break"
   ]
  },
  {
   "cell_type": "markdown",
   "id": "38539c50",
   "metadata": {},
   "source": [
    "Functions\n",
    "\n",
    "def define a function as \n",
    "\n",
    "def my_func(a,b): \n",
    "a and b are parameters\n",
    "-func body-\n",
    "\n",
    "def my_func(a:int, b:int) -> boll\n",
    "a and b are supposed to be integers and it will return a boolean value"
   ]
  },
  {
   "cell_type": "code",
   "execution_count": null,
   "id": "cc2f4349",
   "metadata": {},
   "outputs": [],
   "source": [
    "a = 2\n",
    "b = 5"
   ]
  },
  {
   "cell_type": "code",
   "execution_count": null,
   "id": "43319fc7",
   "metadata": {},
   "outputs": [
    {
     "name": "stdout",
     "output_type": "stream",
     "text": [
      "Hi from function\n"
     ]
    }
   ],
   "source": [
    "def func_name(): #func header\n",
    "    print(\"Hi from function\") #func bodyblock\n",
    "\n",
    "func_name() #func call"
   ]
  },
  {
   "cell_type": "code",
   "execution_count": 145,
   "id": "deff90f6",
   "metadata": {},
   "outputs": [
    {
     "name": "stdout",
     "output_type": "stream",
     "text": [
      "Odd\n"
     ]
    }
   ],
   "source": [
    "def ifSumEven (a,b):\n",
    "    add = a + b\n",
    "    if add%2 == 0:\n",
    "        return True\n",
    "    else:\n",
    "        return False \n",
    "\n",
    "if ifSumEven(2,5): \n",
    "    print(\"Even\")\n",
    "else: \n",
    "    print(\"Odd\")"
   ]
  },
  {
   "cell_type": "markdown",
   "id": "495e50e2",
   "metadata": {},
   "source": [
    "Return means get out of the function and go back to where you were called"
   ]
  },
  {
   "cell_type": "code",
   "execution_count": 147,
   "id": "751e17d1",
   "metadata": {},
   "outputs": [],
   "source": [
    "def func_name(): #func header\n",
    "    return\n",
    "    print(\"Hi from function\") #func bodyblock\n",
    "\n",
    "func_name() #func call"
   ]
  },
  {
   "cell_type": "markdown",
   "id": "5262cc20",
   "metadata": {},
   "source": [
    "Anything after the return statement does not work"
   ]
  },
  {
   "cell_type": "code",
   "execution_count": null,
   "id": "cb30bc1e",
   "metadata": {},
   "outputs": [
    {
     "name": "stdout",
     "output_type": "stream",
     "text": [
      "Odd\n"
     ]
    }
   ],
   "source": [
    "#Update from function earlier that has values of a and b set \n",
    "# if someone forgets to input them in the function\n",
    "\n",
    "def ifSumEven (a=0,b=0):\n",
    "    add = a + b\n",
    "    if add%2 == 0:\n",
    "        return True\n",
    "    else:\n",
    "        return False \n",
    "\n",
    "if ifSumEven(2,5): \n",
    "    print(\"Even\")\n",
    "else: \n",
    "    print(\"Odd\")"
   ]
  },
  {
   "cell_type": "markdown",
   "id": "38eea3c0",
   "metadata": {},
   "source": [
    "Numpy\n",
    "\n",
    "Its an external package that needs to be imported every time"
   ]
  },
  {
   "cell_type": "code",
   "execution_count": 153,
   "id": "72035044",
   "metadata": {},
   "outputs": [
    {
     "name": "stdout",
     "output_type": "stream",
     "text": [
      "<class 'list'>\n",
      "<class 'numpy.ndarray'>\n"
     ]
    }
   ],
   "source": [
    "import numpy as np\n",
    "\n",
    "my_list = [1,2,3,4,5]\n",
    "my_list1 = [1,2,\"hi\",True,4.1]\n",
    "\n",
    "arr = np.array(my_list)\n",
    "arr1 = np.array(my_list1)\n",
    "\n",
    "#arrays have the same data type throughout \n",
    "print(type(my_list)) #list\n",
    "print(type(arr)) #nparray"
   ]
  },
  {
   "cell_type": "markdown",
   "id": "47748156",
   "metadata": {},
   "source": [
    "Numpy Array has dimmensions (1d, 2d, etc) but you cant start variable as a number\n",
    "so OneD"
   ]
  },
  {
   "cell_type": "code",
   "execution_count": 156,
   "id": "f9613940",
   "metadata": {},
   "outputs": [],
   "source": [
    "OneD = np.array([1,2,3,4])\n",
    "TwoD = np.array([[1,2,3],[4,5,6]])\n",
    "#error print (np.array([[1,2,3],[4,5]]))\n",
    "#3 sides versus 2 side\n",
    "ThreeD = np.array([[[1,2,3],[4,5,6]],[[7,8,9],[10,11,12]]])\n",
    "#A list of lists of lists! All have to be the same size. "
   ]
  },
  {
   "cell_type": "code",
   "execution_count": null,
   "id": "ada4abb5",
   "metadata": {},
   "outputs": [
    {
     "data": {
      "text/plain": [
       "np.int64(3)"
      ]
     },
     "execution_count": null,
     "metadata": {},
     "output_type": "execute_result"
    }
   ],
   "source": [
    "OneD[2]\n",
    "#Index 2 in array OneD"
   ]
  },
  {
   "cell_type": "markdown",
   "id": "0d6d9145",
   "metadata": {},
   "source": [
    "Ignore the 64 bits part you only need 3"
   ]
  },
  {
   "cell_type": "code",
   "execution_count": null,
   "id": "2407ef1b",
   "metadata": {},
   "outputs": [
    {
     "data": {
      "text/plain": [
       "array([4, 5, 6])"
      ]
     },
     "execution_count": null,
     "metadata": {},
     "output_type": "execute_result"
    }
   ],
   "source": [
    "TwoD[1]\n",
    "#returns the first list"
   ]
  },
  {
   "cell_type": "code",
   "execution_count": null,
   "id": "0887ffd8",
   "metadata": {},
   "outputs": [
    {
     "data": {
      "text/plain": [
       "1"
      ]
     },
     "execution_count": null,
     "metadata": {},
     "output_type": "execute_result"
    }
   ],
   "source": [
    "my_list=[[1,2],[3,4]]\n",
    "my_list [0] [0]\n",
    "#find the index 0 list and the index 0 number in that list\n",
    "#this does not work the same for arrays"
   ]
  },
  {
   "cell_type": "code",
   "execution_count": 163,
   "id": "d4855d70",
   "metadata": {},
   "outputs": [
    {
     "data": {
      "text/plain": [
       "np.int64(6)"
      ]
     },
     "execution_count": null,
     "metadata": {},
     "output_type": "execute_result"
    }
   ],
   "source": [
    "#same as above but slightly different syntax\n",
    "TwoD[1,2]"
   ]
  },
  {
   "cell_type": "code",
   "execution_count": null,
   "id": "961b675d",
   "metadata": {},
   "outputs": [
    {
     "data": {
      "text/plain": [
       "array([2, 3])"
      ]
     },
     "execution_count": null,
     "metadata": {},
     "output_type": "execute_result"
    }
   ],
   "source": [
    "#slicing arrays \n",
    "OneD[1:3]"
   ]
  },
  {
   "cell_type": "markdown",
   "id": "499aff51",
   "metadata": {},
   "source": [
    "Shaping Arrays"
   ]
  },
  {
   "cell_type": "code",
   "execution_count": null,
   "id": "49907720",
   "metadata": {},
   "outputs": [
    {
     "name": "stdout",
     "output_type": "stream",
     "text": [
      "[[1 2 3]]\n"
     ]
    }
   ],
   "source": [
    "#ndmin makes it 2 dimmensiional\n",
    "arr=np.array([1,2,3],ndmin=2)\n",
    "print(arr)"
   ]
  },
  {
   "cell_type": "code",
   "execution_count": null,
   "id": "75af6242",
   "metadata": {},
   "outputs": [
    {
     "name": "stdout",
     "output_type": "stream",
     "text": [
      "[[1 2]\n",
      " [3 4]\n",
      " [5 6]\n",
      " [7 8]]\n"
     ]
    }
   ],
   "source": [
    "#reshape function (rows,columns)\n",
    "arr = np.array([1,2,3,4,5,6,7,8,])\n",
    "newarr = arr.reshape(4,2)\n",
    "print(newarr)"
   ]
  },
  {
   "cell_type": "code",
   "execution_count": null,
   "id": "6095c87e",
   "metadata": {},
   "outputs": [
    {
     "name": "stdout",
     "output_type": "stream",
     "text": [
      "[1 2 3 4 5 6 7 8]\n"
     ]
    }
   ],
   "source": [
    "#sorts it (it was already sorted)\n",
    "newarr=np.sort(arr)\n",
    "print(newarr)"
   ]
  },
  {
   "cell_type": "code",
   "execution_count": null,
   "id": "2cd8d946",
   "metadata": {},
   "outputs": [
    {
     "data": {
      "text/plain": [
       "array([[2, 3, 4],\n",
       "       [0, 1, 5]])"
      ]
     },
     "execution_count": null,
     "metadata": {},
     "output_type": "execute_result"
    }
   ],
   "source": [
    "#sorts the first list, then sorts the second list\n",
    "arr = [[3,2,4],[5,0,1]]\n",
    "np.sort(arr)"
   ]
  },
  {
   "cell_type": "markdown",
   "id": "b9dbd0d8",
   "metadata": {},
   "source": [
    "Dictionaries \n",
    "\n",
    "dict = {Key : value(s),\n",
    "        Key: value(s)}\n",
    "\n",
    "Keys are always unique but values can repeat. Every key needs to be unique because we access data in dictionary using keys. One Key can have multiple values"
   ]
  },
  {
   "cell_type": "code",
   "execution_count": 170,
   "id": "84e2c77a",
   "metadata": {},
   "outputs": [
    {
     "name": "stdout",
     "output_type": "stream",
     "text": [
      "{'brand': 'BMW', 'model': 'X5', 'year': 2010}\n"
     ]
    }
   ],
   "source": [
    "my_dict = {\"brand\":\"BMW\",\n",
    "            \"model\":\"X5\",\n",
    "            \"year\": 2010}\n",
    "\n",
    "print(my_dict)"
   ]
  },
  {
   "cell_type": "code",
   "execution_count": null,
   "id": "8ba64182",
   "metadata": {},
   "outputs": [
    {
     "name": "stdout",
     "output_type": "stream",
     "text": [
      "X5\n"
     ]
    }
   ],
   "source": [
    "#find the value of the brand\n",
    "print(my_dict[\"model\"])\n",
    "#key is something bigger and value is something within that bigger"
   ]
  },
  {
   "cell_type": "code",
   "execution_count": null,
   "id": "c10f6a9b",
   "metadata": {},
   "outputs": [
    {
     "name": "stdout",
     "output_type": "stream",
     "text": [
      "{'brand': 'BMW', 'model': 'X5', 'year': 2025}\n"
     ]
    }
   ],
   "source": [
    "#it chooses the last one if there are duplicates \n",
    "my_dict = {\"brand\":\"BMW\",\n",
    "            \"model\":\"X5\",\n",
    "            \"year\": 2010,\n",
    "            \"year\": 2025}\n",
    "\n",
    "print(my_dict)"
   ]
  },
  {
   "cell_type": "code",
   "execution_count": 174,
   "id": "b7d01692",
   "metadata": {},
   "outputs": [
    {
     "name": "stdout",
     "output_type": "stream",
     "text": [
      "{'brand': 'BMW', 'model': ['X5', 'X7', 'X9'], 'year': 2025}\n"
     ]
    }
   ],
   "source": [
    "#values can be a list\n",
    "my_dict = {\"brand\":\"BMW\",\n",
    "            \"model\":[\"X5\",\"X7\",\"X9\"],\n",
    "            \"year\": 2010,\n",
    "            \"year\": 2025}\n",
    "print(my_dict)"
   ]
  },
  {
   "cell_type": "code",
   "execution_count": null,
   "id": "c12ef598",
   "metadata": {},
   "outputs": [
    {
     "name": "stdout",
     "output_type": "stream",
     "text": [
      "X5\n"
     ]
    }
   ],
   "source": [
    "print(my_dict[\"model\"][0])"
   ]
  },
  {
   "cell_type": "markdown",
   "id": "ba0e2e32",
   "metadata": {},
   "source": [
    "Pandas "
   ]
  },
  {
   "cell_type": "code",
   "execution_count": 177,
   "id": "6397317b",
   "metadata": {},
   "outputs": [],
   "source": [
    "my_dict = {\"brand\":[\"BMW\",\"Audi\",\"Lamborgini\"],\n",
    "            \"model\":[\"X5\",\"X7\",\"X9\"]}"
   ]
  },
  {
   "cell_type": "code",
   "execution_count": 179,
   "id": "0a6266a6",
   "metadata": {},
   "outputs": [
    {
     "name": "stdout",
     "output_type": "stream",
     "text": [
      "        brand model\n",
      "0         BMW    X5\n",
      "1        Audi    X7\n",
      "2  Lamborgini    X9\n"
     ]
    }
   ],
   "source": [
    "import pandas as pd\n",
    "\n",
    "\n",
    "df = pd.DataFrame(my_dict)\n",
    "print(df)"
   ]
  },
  {
   "cell_type": "code",
   "execution_count": 181,
   "id": "8da9622c",
   "metadata": {},
   "outputs": [
    {
     "name": "stdout",
     "output_type": "stream",
     "text": [
      "brand    BMW\n",
      "model     X5\n",
      "Name: 0, dtype: object\n"
     ]
    }
   ],
   "source": [
    "print(df.loc[0])"
   ]
  },
  {
   "cell_type": "code",
   "execution_count": null,
   "id": "1667585b",
   "metadata": {},
   "outputs": [
    {
     "name": "stdout",
     "output_type": "stream",
     "text": [
      "  brand model\n",
      "0   BMW    X5\n",
      "1  Audi    X7\n"
     ]
    }
   ],
   "source": [
    "#from this dataframe return the 0th row and the 1st row\n",
    "print(df.loc[[0,1]])"
   ]
  },
  {
   "cell_type": "code",
   "execution_count": 184,
   "id": "de0ff236",
   "metadata": {},
   "outputs": [
    {
     "name": "stdout",
     "output_type": "stream",
     "text": [
      "           brand model\n",
      "car1         BMW    X5\n",
      "car2        Audi    X7\n",
      "car3  Lamborgini    X9\n"
     ]
    }
   ],
   "source": [
    "df = pd.DataFrame(my_dict, index = [\"car1\", \"car2\", \"car3\"])\n",
    "print(df)"
   ]
  },
  {
   "cell_type": "code",
   "execution_count": 186,
   "id": "ec72f89d",
   "metadata": {},
   "outputs": [
    {
     "name": "stdout",
     "output_type": "stream",
     "text": [
      "brand    BMW\n",
      "model     X5\n",
      "Name: car1, dtype: object\n"
     ]
    }
   ],
   "source": [
    "#how would you locate the index 0 car \n",
    "print(df.loc[\"car1\"])"
   ]
  },
  {
   "cell_type": "code",
   "execution_count": null,
   "id": "afbb1f1a",
   "metadata": {},
   "outputs": [],
   "source": [
    "#read CVS\n",
    "#pd.read_csv(\"<filename>\")\n",
    "#takes the CVS file and makes it a dataframe"
   ]
  },
  {
   "cell_type": "code",
   "execution_count": null,
   "id": "86499e56",
   "metadata": {},
   "outputs": [
    {
     "name": "stdout",
     "output_type": "stream",
     "text": [
      "<class 'pandas.core.frame.DataFrame'>\n",
      "Index: 3 entries, car1 to car3\n",
      "Data columns (total 2 columns):\n",
      " #   Column  Non-Null Count  Dtype \n",
      "---  ------  --------------  ----- \n",
      " 0   brand   3 non-null      object\n",
      " 1   model   3 non-null      object\n",
      "dtypes: object(2)\n",
      "memory usage: 180.0+ bytes\n",
      "None\n"
     ]
    }
   ],
   "source": [
    "#non-null tells you the number of not empty values\n",
    "#Dtype is also important object = string\n",
    "print(df.info())"
   ]
  },
  {
   "cell_type": "markdown",
   "id": "63b8fac7",
   "metadata": {},
   "source": [
    "Cleaning\n",
    "newdf = df.dropnow()\n",
    "All rows of empty cells will be dropped. Removes the row which will cause data loss. You might want to use dummy variables instead "
   ]
  }
 ],
 "metadata": {
  "language_info": {
   "name": "python"
  }
 },
 "nbformat": 4,
 "nbformat_minor": 5
}
